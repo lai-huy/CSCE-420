{
  "cells": [
    {
      "cell_type": "markdown",
      "metadata": {},
      "source": [
        "# MinMax Search\n",
        "Yoonsuck Choe  \n",
        "9/26/2021 - revised 9/28  \n",
        "\n",
        "- This is a really basic implementation.\n",
        "- You can consider modifying it to keep track of the solution path"
      ]
    },
    {
      "cell_type": "code",
      "execution_count": 1,
      "metadata": {},
      "outputs": [],
      "source": [
        "MAX = 99999\n",
        "MIN = -99999"
      ]
    },
    {
      "cell_type": "code",
      "execution_count": 2,
      "metadata": {},
      "outputs": [],
      "source": [
        "Game_tree = [[[5, 8], [3, [5, 2, 7, 0], 9, [5, 8, 1]], [7, [3, 10, 5]]], [\n",
        "\t[[3, 6, 4], 6, [3, 10]], [[8, 13], 5, [3, 4]]]]"
      ]
    },
    {
      "cell_type": "code",
      "execution_count": 3,
      "metadata": {
        "colab": {
          "base_uri": "https://localhost:8080/"
        },
        "id": "HkUcTQr6bM-l",
        "outputId": "b50eb7bb-88fb-470f-bd8a-8a185d436f1d"
      },
      "outputs": [],
      "source": [
        "def minmax_value(tree, node_type, alpha, beta, indent=\"\"):\n",
        "\t'''\n",
        "\tinput: game tree and the type of its root : \"max\" or \"min\"\n",
        "\treturn: value of optimal outcome\n",
        "\t'''\n",
        "\n",
        "\tif type(tree) == int:  # Leaf node\n",
        "\t\tprint(indent + \"CALL\", node_type, \"returns\", tree)\n",
        "\t\treturn tree\n",
        "\n",
        "\tif node_type == \"max\":  # \"tree\"'s root is a MAX node\n",
        "\t\tmax_v = MIN\n",
        "\t\tprint(indent + \"CALL max \" + str(tree))\n",
        "\n",
        "\t\tfor index, i in enumerate(tree):\n",
        "\t\t\tv = minmax_value(i, \"min\", alpha, beta, indent + \"  \")\n",
        "\t\t\tmax_v = max(max_v, v)\n",
        "\t\t\talpha = max(alpha, v)\n",
        "\n",
        "\t\t\tif beta <= alpha:\n",
        "\t\t\t\tprint(indent + \"  - Pruned\", tree[index+1:], \"returns\", max_v)\n",
        "\t\t\t\tbreak\n",
        "\n",
        "\t\tprint(indent + \"  - max\", tree, \"returns\", max_v)\n",
        "\t\treturn max_v\n",
        "\n",
        "\tif node_type == \"min\":  # \"tree\"'s root is a MIN node\n",
        "\t\tmin_v = MAX\n",
        "\t\tprint(indent + \"CALL min \" + str(tree))\n",
        "\n",
        "\t\tfor index, i in enumerate(tree):\n",
        "\t\t\tv = minmax_value(i, \"max\", alpha, beta, indent + \"  \")\n",
        "\t\t\tmin_v = min(min_v, v)\n",
        "\t\t\tbeta = min(beta, v)\n",
        "\n",
        "\t\t\tif beta <= alpha:\n",
        "\t\t\t\tprint(indent + \"  - Pruned\", tree[index+1:], \"returns\", min_v)\n",
        "\t\t\t\tbreak\n",
        "\n",
        "\t\tprint(indent + \"  - min\", tree, \"returns\", min_v)\n",
        "\t\treturn min_v"
      ]
    },
    {
      "cell_type": "code",
      "execution_count": 4,
      "metadata": {},
      "outputs": [],
      "source": [
        "def minmax_decision(tree):\n",
        "\t'''\n",
        "\tinput: game tree (as a python list)\n",
        "\treturn: value of optimal outcome\n",
        "\t'''\n",
        "\n",
        "\t# long implementation (as in the slides)\n",
        "\t'''\n",
        "\tmax = MIN\n",
        "\n",
        "\tfor i in tree:\n",
        "\t\tv = minmax_value(i,\"min\")\n",
        "\t\tif (v > max):\n",
        "\t\t\tmax = v\n",
        "\n",
        "\treturn max\n",
        "\t'''\n",
        "\n",
        "\t# compact implementation:\n",
        "\n",
        "\treturn minmax_value(tree, \"max\", MIN, MAX)"
      ]
    },
    {
      "cell_type": "code",
      "execution_count": 5,
      "metadata": {},
      "outputs": [
        {
          "name": "stdout",
          "output_type": "stream",
          "text": [
            "CALL max [[[5, 8], [3, [5, 2, 7, 0], 9, [5, 8, 1]], [7, [3, 10, 5]]], [[[3, 6, 4], 6, [3, 10]], [[8, 13], 5, [3, 4]]]]\n",
            "  CALL min [[5, 8], [3, [5, 2, 7, 0], 9, [5, 8, 1]], [7, [3, 10, 5]]]\n",
            "    CALL max [5, 8]\n",
            "      CALL min returns 5\n",
            "      CALL min returns 8\n",
            "      - max [5, 8] returns 8\n",
            "    CALL max [3, [5, 2, 7, 0], 9, [5, 8, 1]]\n",
            "      CALL min returns 3\n",
            "      CALL min [5, 2, 7, 0]\n",
            "        CALL max returns 5\n",
            "        CALL max returns 2\n",
            "        - Pruned [7, 0] returns 2\n",
            "        - min [5, 2, 7, 0] returns 2\n",
            "      CALL min returns 9\n",
            "      - Pruned [[5, 8, 1]] returns 9\n",
            "      - max [3, [5, 2, 7, 0], 9, [5, 8, 1]] returns 9\n",
            "    CALL max [7, [3, 10, 5]]\n",
            "      CALL min returns 7\n",
            "      CALL min [3, 10, 5]\n",
            "        CALL max returns 3\n",
            "        - Pruned [10, 5] returns 3\n",
            "        - min [3, 10, 5] returns 3\n",
            "      - max [7, [3, 10, 5]] returns 7\n",
            "    - min [[5, 8], [3, [5, 2, 7, 0], 9, [5, 8, 1]], [7, [3, 10, 5]]] returns 7\n",
            "  CALL min [[[3, 6, 4], 6, [3, 10]], [[8, 13], 5, [3, 4]]]\n",
            "    CALL max [[3, 6, 4], 6, [3, 10]]\n",
            "      CALL min [3, 6, 4]\n",
            "        CALL max returns 3\n",
            "        - Pruned [6, 4] returns 3\n",
            "        - min [3, 6, 4] returns 3\n",
            "      CALL min returns 6\n",
            "      CALL min [3, 10]\n",
            "        CALL max returns 3\n",
            "        - Pruned [10] returns 3\n",
            "        - min [3, 10] returns 3\n",
            "      - max [[3, 6, 4], 6, [3, 10]] returns 6\n",
            "    - Pruned [[[8, 13], 5, [3, 4]]] returns 6\n",
            "    - min [[[3, 6, 4], 6, [3, 10]], [[8, 13], 5, [3, 4]]] returns 6\n",
            "  - max [[[5, 8], [3, [5, 2, 7, 0], 9, [5, 8, 1]], [7, [3, 10, 5]]], [[[3, 6, 4], 6, [3, 10]], [[8, 13], 5, [3, 4]]]] returns 7\n"
          ]
        },
        {
          "data": {
            "text/plain": [
              "7"
            ]
          },
          "execution_count": 5,
          "metadata": {},
          "output_type": "execute_result"
        }
      ],
      "source": [
        "minmax_decision(Game_tree)"
      ]
    }
  ],
  "metadata": {
    "colab": {
      "provenance": []
    },
    "kernelspec": {
      "display_name": "Python 3",
      "name": "python3"
    },
    "language_info": {
      "codemirror_mode": {
        "name": "ipython",
        "version": 3
      },
      "file_extension": ".py",
      "mimetype": "text/x-python",
      "name": "python",
      "nbconvert_exporter": "python",
      "pygments_lexer": "ipython3",
      "version": "3.10.12"
    }
  },
  "nbformat": 4,
  "nbformat_minor": 0
}
