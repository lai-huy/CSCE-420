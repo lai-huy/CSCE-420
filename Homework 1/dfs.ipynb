{
  "cells": [
    {
      "cell_type": "markdown",
      "metadata": {
        "id": "28UvZIz1ePrk"
      },
      "source": [
        "# DFS Example Code & Node Data Structure\n",
        "Yoonsuck Choe\n",
        "13 September 2021"
      ]
    },
    {
      "cell_type": "code",
      "execution_count": 1,
      "metadata": {
        "id": "tz1UITTxeD2u"
      },
      "outputs": [],
      "source": [
        "DEBUG_FLAG=True\n",
        "GOAL = 10"
      ]
    },
    {
      "cell_type": "code",
      "execution_count": 2,
      "metadata": {
        "id": "as03lv-ueJjL"
      },
      "outputs": [],
      "source": [
        "def debug(msg: str, obj: str = \"\"):\n",
        "    \"\"\"turn DEBUG_FLAG off to suppress messages\n",
        "\n",
        "    Args:\n",
        "        msg (str): message to display\n",
        "        obj (str):\n",
        "    \"\"\"\n",
        "    if (DEBUG_FLAG):\n",
        "        print(msg, end=\"\")\n",
        "        print(obj)"
      ]
    },
    {
      "cell_type": "code",
      "execution_count": 3,
      "metadata": {
        "id": "8qpOcojQdzkF"
      },
      "outputs": [],
      "source": [
        "def goalp(node):\n",
        "    \"\"\"goalp : check if it is a leaf (leaf value > GOAL, then goal found)\n",
        "\n",
        "    Args:\n",
        "        node (List[int]): node list\n",
        "\n",
        "    Returns:\n",
        "        Bool: False if node is not a leaf, node otherwise\n",
        "    \"\"\"\n",
        "    if (not isinstance(node, int)):\n",
        "        # not a leaf\n",
        "        debug(\"  goalp: not a leaf node\")\n",
        "        return False\n",
        "\n",
        "    else:\n",
        "        # leaf node\n",
        "        if (node > GOAL):\n",
        "            debug(\"  goalp: MATCH\")\n",
        "            return node\n",
        "        else:\n",
        "            debug(\"  goalp: NO match\")\n",
        "            return False\n",
        "\n",
        "# test:\n",
        "# goalp([ [ 1 ,2 ] , 3] )\n",
        "# goalp(11)"
      ]
    },
    {
      "cell_type": "code",
      "execution_count": 4,
      "metadata": {
        "id": "fQgxvJvnoO9r"
      },
      "outputs": [],
      "source": [
        "def expand(node):\n",
        "    \"\"\"given node, expand into children, and return list containing children\n",
        "\n",
        "    Args:\n",
        "        node (List[int]): node list\n",
        "\n",
        "    Returns:\n",
        "        List[int]: node expanded\n",
        "    \"\"\"\n",
        "    if (isinstance(node,int)):\n",
        "        return []\n",
        "    else:\n",
        "        '''\n",
        "        If \"node\" = [ a, b, c ]\n",
        "        then expanded items are a, b, c.\n",
        "        Putting a, b, c in a list gives [ a, b, c ], which is the same as \"node\".\n",
        "        '''\n",
        "        return node\n",
        "\n",
        "# test:\n",
        "# expand([ 2 , [3 , 4 ], 5])\n",
        "# expand(2)\n"
      ]
    },
    {
      "cell_type": "code",
      "execution_count": 5,
      "metadata": {
        "id": "g9zeCCCneNow"
      },
      "outputs": [],
      "source": [
        "def append_list(a: list, b: list) -> list:\n",
        "    \"\"\"Appends two lists together\n",
        "\n",
        "    Args:\n",
        "        a (list): originl list\n",
        "        b (list): list to append\n",
        "\n",
        "    Returns:\n",
        "        the two input lists appended\n",
        "    \"\"\"\n",
        "    ret = a\n",
        "    ret.extend(b)\n",
        "    return ret"
      ]
    },
    {
      "cell_type": "code",
      "execution_count": 6,
      "metadata": {
        "id": "mweu1Q64y2na"
      },
      "outputs": [],
      "source": [
        "def dfs(node: int) -> int:\n",
        "    \"\"\"Depth First Search, the iterative version\n",
        "\n",
        "    Args:\n",
        "        node (int): starting node\n",
        "\n",
        "    Returns:\n",
        "        int: goal node\n",
        "    \"\"\"\n",
        "    # put node in empty nodelist\n",
        "    node_list = [node]\n",
        "    debug(\"Start: \", node_list)\n",
        "\n",
        "    # MAIN LOOP: while node_list is not empty\n",
        "    while (node_list):\n",
        "\n",
        "        # A. visit: pop first node from list\n",
        "        cur_node = node_list.pop(0)\n",
        "        debug(\"Visiting: \", cur_node)\n",
        "\n",
        "        # B. goal check\n",
        "        if (goalp(cur_node)):\n",
        "\n",
        "            # 1 goal found\n",
        "            print(\"  MATCH = \"+str(cur_node))\n",
        "            return cur_node\n",
        "\n",
        "        else:\n",
        "            # 2 further explore\n",
        "\n",
        "            # 2.1: expand node\n",
        "            expanded = expand(cur_node)\n",
        "            debug(\"  Expanded=\", expanded)\n",
        "\n",
        "            # 2.2: enqueue (change here to change search behavior)\n",
        "\n",
        "            # for dfs:\n",
        "            node_list = append_list(expanded, node_list)\n",
        "            # for bfs: change to\n",
        "            # node_list = append_list(node_list, expanded)\n",
        "\n",
        "        # C. print current node_list\n",
        "        debug(\"  New node list=\", node_list)\n",
        "        debug(\"\")"
      ]
    },
    {
      "cell_type": "code",
      "execution_count": 7,
      "metadata": {
        "colab": {
          "base_uri": "https://localhost:8080/"
        },
        "id": "V615Wq74zAu8",
        "outputId": "9f4da1b1-3e08-435e-d56d-a330fd5e81ff"
      },
      "outputs": [
        {
          "name": "stdout",
          "output_type": "stream",
          "text": [
            "Start: [[2, [3, [7, 11]], [9, 20], 5]]\n",
            "Visiting: [2, [3, [7, 11]], [9, 20], 5]\n",
            "  goalp: not a leaf node\n",
            "  Expanded=[2, [3, [7, 11]], [9, 20], 5]\n",
            "  New node list=[2, [3, [7, 11]], [9, 20], 5]\n",
            "\n",
            "Visiting: 2\n",
            "  goalp: NO match\n",
            "  Expanded=[]\n",
            "  New node list=[[3, [7, 11]], [9, 20], 5]\n",
            "\n",
            "Visiting: [3, [7, 11]]\n",
            "  goalp: not a leaf node\n",
            "  Expanded=[3, [7, 11]]\n",
            "  New node list=[3, [7, 11], [9, 20], 5]\n",
            "\n",
            "Visiting: 3\n",
            "  goalp: NO match\n",
            "  Expanded=[]\n",
            "  New node list=[[7, 11], [9, 20], 5]\n",
            "\n",
            "Visiting: [7, 11]\n",
            "  goalp: not a leaf node\n",
            "  Expanded=[7, 11]\n",
            "  New node list=[7, 11, [9, 20], 5]\n",
            "\n",
            "Visiting: 7\n",
            "  goalp: NO match\n",
            "  Expanded=[]\n",
            "  New node list=[11, [9, 20], 5]\n",
            "\n",
            "Visiting: 11\n",
            "  goalp: MATCH\n",
            "  MATCH = 11\n"
          ]
        },
        {
          "data": {
            "text/plain": [
              "11"
            ]
          },
          "execution_count": 7,
          "metadata": {},
          "output_type": "execute_result"
        }
      ],
      "source": [
        "# test: change the tree or change the goal (set GOAL at the top)\n",
        "dfs([2 , [3 ,[7, 11 ]], [9, 20], 5])"
      ]
    },
    {
      "cell_type": "markdown",
      "metadata": {
        "id": "BwRC_cZV11-B"
      },
      "source": [
        "# Node Data Structure\n",
        "\n",
        "Below are some ideas on how to make the simple example above more general\n",
        "- use adjacency matrix to define graph, and conduct search on the graph\n",
        "- each cell in the matrix is the distance\n",
        "- column -> row connectivity"
      ]
    },
    {
      "cell_type": "code",
      "execution_count": 8,
      "metadata": {
        "id": "GxiVIJ7fS1JK"
      },
      "outputs": [],
      "source": [
        "MAT = [[0, 10, 12,  9,  0,  0,  0,  0],  #A\n",
        "       [0,  0,  0,  0, 25, 12,  0,  0],  #B\n",
        "       [0,  0,  0,  0,  0, 18, 29,  0],  #C\n",
        "       [0,  0,  5,  0,  0,  0, 25,  0],  #D\n",
        "       [0,  0,  0,  0,  0,  7,  0, 20],  #E\n",
        "       [0,  0,  0,  0,  0,  0,  9, 36],  #F\n",
        "       [0,  0,  0,  0,  0,  0,  0, 20],  #G\n",
        "       [0,  0,  0,  0,  0,  0,  0,  0]]  #H\n",
        "'''\n",
        " The search graph looks like this:\n",
        "\n",
        " (0) --10--> (2) --20--> (3)\n",
        "  |     _10__/            ^\n",
        "  30  /                   |\n",
        "  |  |                    |\n",
        "  v  v                   /\n",
        "  (1)_______5___________/\n",
        "\n",
        "'''\n",
        "\n",
        "# 2. heuristic values : states 0, 1, 2, 3\n",
        "H = [41, 40, 37, 38, 17, 24, 19, 0]"
      ]
    },
    {
      "cell_type": "code",
      "execution_count": 9,
      "metadata": {
        "id": "N0Q3o-TJshBB"
      },
      "outputs": [],
      "source": [
        "class Node:\n",
        "\t\"\"\"Node class\n",
        "\t\"\"\"\n",
        "\tdef __init__(self, state: int):\n",
        "\t\t\"\"\"Initialize a node\n",
        "\n",
        "\t\tArgs:\n",
        "\t\t\tstate (int): id for the node\n",
        "\t\t\"\"\"\n",
        "\t\tself.state: int = state\n",
        "\t\tself.h: int = H[state]\n",
        "\t\tself.cost: int = 0\n",
        "\t\tself.path: str = str(state)\n",
        "\n",
        "\tdef __str__(self):\n",
        "\t\treturn f\"{{state={self.state}, cost={self.cost}, h={self.h}, path=({self.path})}}\"\n",
        "\n",
        "\tdef move(self, child_state: int):\n",
        "\t\t\"\"\"Make one move to child_state\n",
        "\n",
        "\t\tArgs:\n",
        "\t\t\tchild_state (int): Child to move to\n",
        "\n",
        "\t\tReturns:\n",
        "\t\t\tNode: resulting child node\n",
        "\t\t\"\"\"\n",
        "\t\tedge_cost = MAT[self.state][child_state]\n",
        "\t\tif (edge_cost > 0):\n",
        "\t\t\tchild = Node(child_state)\n",
        "\t\t\tchild.cost = self.cost + edge_cost\n",
        "\t\t\tchild.path = f\"{self.path} -> {child_state}\"\n",
        "\t\t\treturn child\n",
        "\t\telse:\n",
        "\t\t\treturn []\n",
        "\n",
        "\tdef expand(self) -> list:\n",
        "\t\t'''\n",
        "\t\texpand node and do all the book-keeping\n",
        "\t\t- returns node list\n",
        "\t\t'''\n",
        "\n",
        "\t\tnode_list = []\n",
        "\n",
        "\t\tfor child_state in range(0, len(H)):\n",
        "\t\t\tif (MAT[self.state][child_state] > 0):\n",
        "\t\t\t\tchild_node = self.move(child_state)\n",
        "\t\t\t\tnode_list.extend([child_node])\n",
        "\n",
        "\t\treturn node_list\n",
        "\n",
        "\tdef print_list(node_list: list) -> str:\n",
        "\t\t\"\"\"Pretty print the node list\n",
        "\n",
        "\t\tArgs:\n",
        "\t\t\tnode_list (list): node list to print\n",
        "\n",
        "\t\tReturns:\n",
        "\t\t\tstr: list of nodes\n",
        "\t\t\"\"\"\n",
        "\t\ts = \"[\"\n",
        "\n",
        "\t\tfor n in node_list:\n",
        "\t\t\ts += str(n) + \"; \"\n",
        "\t\ts += \"]\\n\"\n",
        "\t\treturn s\n",
        "\n",
        "\tdef sort(node_list: list, eval_fn: callable):\n",
        "\t\t\"\"\"Sorts a list of nodes based on the evaluation function.\n",
        "\n",
        "\t\tArgs:\n",
        "\t\t\tnode_list (list): A list of nodes to be sorted.\n",
        "\t\t\teval_fn (callable): A function that takes a node as input and returns a value to determine the sorting order.\n",
        "\n",
        "\t\tReturns:\n",
        "\t\t\tlist[Node]: A sorted list of nodes.\n",
        "\t\t\"\"\"\n",
        "\t\treturn sorted(node_list, key=eval_fn)"
      ]
    },
    {
      "cell_type": "code",
      "execution_count": 10,
      "metadata": {
        "id": "M_cCkSaPptuR"
      },
      "outputs": [],
      "source": [
        "def gbfs(start, goal) -> Node:\n",
        "    pq = [Node(start)]\n",
        "    debug(f\"Start: {Node.print_list(pq)}\")\n",
        "\n",
        "    while (pq):\n",
        "        cur_node = pq.pop(0)\n",
        "        debug(f\"Visiting: {str(cur_node)}\")\n",
        "\n",
        "        if (cur_node.state == goal):\n",
        "            print(f\"  MATCH = {str(cur_node)}\")\n",
        "            return cur_node\n",
        "\n",
        "        else:\n",
        "            expanded = cur_node.expand()\n",
        "            debug(f\"  Expanded={Node.print_list(expanded)}\")\n",
        "\n",
        "            pq.extend(expanded)\n",
        "\n",
        "        pq = Node.sort(pq, lambda node: node.h)\n",
        "        debug(f\"  New node list={Node.print_list(pq)}\")\n",
        "        debug(\"\", \"\")"
      ]
    },
    {
      "cell_type": "code",
      "execution_count": 11,
      "metadata": {
        "colab": {
          "base_uri": "https://localhost:8080/"
        },
        "id": "lsvptgqppvWf",
        "outputId": "bddea69e-4339-4ffe-e6dc-5286f05d3a4c"
      },
      "outputs": [
        {
          "name": "stdout",
          "output_type": "stream",
          "text": [
            "Start: [{state=0, cost=0, h=41, path=(0)}; ]\n",
            "\n",
            "Visiting: {state=0, cost=0, h=41, path=(0)}\n",
            "  Expanded=[{state=1, cost=10, h=40, path=(0 -> 1)}; {state=2, cost=12, h=37, path=(0 -> 2)}; {state=3, cost=9, h=38, path=(0 -> 3)}; ]\n",
            "\n",
            "  New node list=[{state=2, cost=12, h=37, path=(0 -> 2)}; {state=3, cost=9, h=38, path=(0 -> 3)}; {state=1, cost=10, h=40, path=(0 -> 1)}; ]\n",
            "\n",
            "\n",
            "Visiting: {state=2, cost=12, h=37, path=(0 -> 2)}\n",
            "  Expanded=[{state=5, cost=30, h=24, path=(0 -> 2 -> 5)}; {state=6, cost=41, h=19, path=(0 -> 2 -> 6)}; ]\n",
            "\n",
            "  New node list=[{state=6, cost=41, h=19, path=(0 -> 2 -> 6)}; {state=5, cost=30, h=24, path=(0 -> 2 -> 5)}; {state=3, cost=9, h=38, path=(0 -> 3)}; {state=1, cost=10, h=40, path=(0 -> 1)}; ]\n",
            "\n",
            "\n",
            "Visiting: {state=6, cost=41, h=19, path=(0 -> 2 -> 6)}\n",
            "  Expanded=[{state=7, cost=61, h=0, path=(0 -> 2 -> 6 -> 7)}; ]\n",
            "\n",
            "  New node list=[{state=7, cost=61, h=0, path=(0 -> 2 -> 6 -> 7)}; {state=5, cost=30, h=24, path=(0 -> 2 -> 5)}; {state=3, cost=9, h=38, path=(0 -> 3)}; {state=1, cost=10, h=40, path=(0 -> 1)}; ]\n",
            "\n",
            "\n",
            "Visiting: {state=7, cost=61, h=0, path=(0 -> 2 -> 6 -> 7)}\n",
            "  MATCH = {state=7, cost=61, h=0, path=(0 -> 2 -> 6 -> 7)}\n",
            "{state=7, cost=61, h=0, path=(0 -> 2 -> 6 -> 7)}\n"
          ]
        }
      ],
      "source": [
        "print(gbfs(0, 7))"
      ]
    },
    {
      "cell_type": "code",
      "execution_count": 12,
      "metadata": {
        "id": "AuqaB5eUD3Yt"
      },
      "outputs": [],
      "source": [
        "def a_star(start, goal) -> Node:\n",
        "    pq = [Node(start)]\n",
        "    debug(f\"Start: {Node.print_list(pq)}\")\n",
        "\n",
        "    while (pq):\n",
        "        cur_node = pq.pop(0)\n",
        "        debug(f\"Visiting: {str(cur_node)}\")\n",
        "\n",
        "        if (cur_node.state == goal):\n",
        "            print(f\"  MATCH = {str(cur_node)}\")\n",
        "            return cur_node\n",
        "\n",
        "        else:\n",
        "            expanded = cur_node.expand()\n",
        "            debug(f\"  Expanded={Node.print_list(expanded)}\")\n",
        "\n",
        "            pq.extend(expanded)\n",
        "\n",
        "        pq = Node.sort(pq, lambda node: node.h + node.cost)\n",
        "        debug(f\"  New node list={Node.print_list(pq)}\")\n",
        "        debug(\"\", \"\")"
      ]
    },
    {
      "cell_type": "code",
      "execution_count": 13,
      "metadata": {
        "colab": {
          "base_uri": "https://localhost:8080/"
        },
        "id": "Kjo9XLC9ENCW",
        "outputId": "47773a28-1c36-42eb-ab14-ccd5e00ce184"
      },
      "outputs": [
        {
          "name": "stdout",
          "output_type": "stream",
          "text": [
            "Start: [{state=0, cost=0, h=41, path=(0)}; ]\n",
            "\n",
            "Visiting: {state=0, cost=0, h=41, path=(0)}\n",
            "  Expanded=[{state=1, cost=10, h=40, path=(0 -> 1)}; {state=2, cost=12, h=37, path=(0 -> 2)}; {state=3, cost=9, h=38, path=(0 -> 3)}; ]\n",
            "\n",
            "  New node list=[{state=3, cost=9, h=38, path=(0 -> 3)}; {state=2, cost=12, h=37, path=(0 -> 2)}; {state=1, cost=10, h=40, path=(0 -> 1)}; ]\n",
            "\n",
            "\n",
            "Visiting: {state=3, cost=9, h=38, path=(0 -> 3)}\n",
            "  Expanded=[{state=2, cost=14, h=37, path=(0 -> 3 -> 2)}; {state=6, cost=34, h=19, path=(0 -> 3 -> 6)}; ]\n",
            "\n",
            "  New node list=[{state=2, cost=12, h=37, path=(0 -> 2)}; {state=1, cost=10, h=40, path=(0 -> 1)}; {state=2, cost=14, h=37, path=(0 -> 3 -> 2)}; {state=6, cost=34, h=19, path=(0 -> 3 -> 6)}; ]\n",
            "\n",
            "\n",
            "Visiting: {state=2, cost=12, h=37, path=(0 -> 2)}\n",
            "  Expanded=[{state=5, cost=30, h=24, path=(0 -> 2 -> 5)}; {state=6, cost=41, h=19, path=(0 -> 2 -> 6)}; ]\n",
            "\n",
            "  New node list=[{state=1, cost=10, h=40, path=(0 -> 1)}; {state=2, cost=14, h=37, path=(0 -> 3 -> 2)}; {state=6, cost=34, h=19, path=(0 -> 3 -> 6)}; {state=5, cost=30, h=24, path=(0 -> 2 -> 5)}; {state=6, cost=41, h=19, path=(0 -> 2 -> 6)}; ]\n",
            "\n",
            "\n",
            "Visiting: {state=1, cost=10, h=40, path=(0 -> 1)}\n",
            "  Expanded=[{state=4, cost=35, h=17, path=(0 -> 1 -> 4)}; {state=5, cost=22, h=24, path=(0 -> 1 -> 5)}; ]\n",
            "\n",
            "  New node list=[{state=5, cost=22, h=24, path=(0 -> 1 -> 5)}; {state=2, cost=14, h=37, path=(0 -> 3 -> 2)}; {state=4, cost=35, h=17, path=(0 -> 1 -> 4)}; {state=6, cost=34, h=19, path=(0 -> 3 -> 6)}; {state=5, cost=30, h=24, path=(0 -> 2 -> 5)}; {state=6, cost=41, h=19, path=(0 -> 2 -> 6)}; ]\n",
            "\n",
            "\n",
            "Visiting: {state=5, cost=22, h=24, path=(0 -> 1 -> 5)}\n",
            "  Expanded=[{state=6, cost=31, h=19, path=(0 -> 1 -> 5 -> 6)}; {state=7, cost=58, h=0, path=(0 -> 1 -> 5 -> 7)}; ]\n",
            "\n",
            "  New node list=[{state=6, cost=31, h=19, path=(0 -> 1 -> 5 -> 6)}; {state=2, cost=14, h=37, path=(0 -> 3 -> 2)}; {state=4, cost=35, h=17, path=(0 -> 1 -> 4)}; {state=6, cost=34, h=19, path=(0 -> 3 -> 6)}; {state=5, cost=30, h=24, path=(0 -> 2 -> 5)}; {state=7, cost=58, h=0, path=(0 -> 1 -> 5 -> 7)}; {state=6, cost=41, h=19, path=(0 -> 2 -> 6)}; ]\n",
            "\n",
            "\n",
            "Visiting: {state=6, cost=31, h=19, path=(0 -> 1 -> 5 -> 6)}\n",
            "  Expanded=[{state=7, cost=51, h=0, path=(0 -> 1 -> 5 -> 6 -> 7)}; ]\n",
            "\n",
            "  New node list=[{state=2, cost=14, h=37, path=(0 -> 3 -> 2)}; {state=7, cost=51, h=0, path=(0 -> 1 -> 5 -> 6 -> 7)}; {state=4, cost=35, h=17, path=(0 -> 1 -> 4)}; {state=6, cost=34, h=19, path=(0 -> 3 -> 6)}; {state=5, cost=30, h=24, path=(0 -> 2 -> 5)}; {state=7, cost=58, h=0, path=(0 -> 1 -> 5 -> 7)}; {state=6, cost=41, h=19, path=(0 -> 2 -> 6)}; ]\n",
            "\n",
            "\n",
            "Visiting: {state=2, cost=14, h=37, path=(0 -> 3 -> 2)}\n",
            "  Expanded=[{state=5, cost=32, h=24, path=(0 -> 3 -> 2 -> 5)}; {state=6, cost=43, h=19, path=(0 -> 3 -> 2 -> 6)}; ]\n",
            "\n",
            "  New node list=[{state=7, cost=51, h=0, path=(0 -> 1 -> 5 -> 6 -> 7)}; {state=4, cost=35, h=17, path=(0 -> 1 -> 4)}; {state=6, cost=34, h=19, path=(0 -> 3 -> 6)}; {state=5, cost=30, h=24, path=(0 -> 2 -> 5)}; {state=5, cost=32, h=24, path=(0 -> 3 -> 2 -> 5)}; {state=7, cost=58, h=0, path=(0 -> 1 -> 5 -> 7)}; {state=6, cost=41, h=19, path=(0 -> 2 -> 6)}; {state=6, cost=43, h=19, path=(0 -> 3 -> 2 -> 6)}; ]\n",
            "\n",
            "\n",
            "Visiting: {state=7, cost=51, h=0, path=(0 -> 1 -> 5 -> 6 -> 7)}\n",
            "  MATCH = {state=7, cost=51, h=0, path=(0 -> 1 -> 5 -> 6 -> 7)}\n",
            "{state=7, cost=51, h=0, path=(0 -> 1 -> 5 -> 6 -> 7)}\n"
          ]
        }
      ],
      "source": [
        "print(a_star(0, 7))"
      ]
    }
  ],
  "metadata": {
    "colab": {
      "provenance": [],
      "toc_visible": true
    },
    "kernelspec": {
      "display_name": "Python 3",
      "name": "python3"
    },
    "language_info": {
      "name": "python",
      "version": "3.10.12"
    }
  },
  "nbformat": 4,
  "nbformat_minor": 0
}
