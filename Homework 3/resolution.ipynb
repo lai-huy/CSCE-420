{
  "nbformat": 4,
  "nbformat_minor": 0,
  "metadata": {
    "colab": {
      "provenance": [],
      "toc_visible": true
    },
    "kernelspec": {
      "name": "python3",
      "display_name": "Python 3"
    },
    "language_info": {
      "name": "python"
    }
  },
  "cells": [
    {
      "cell_type": "markdown",
      "source": [
        "Skeleton code for resolution theorem prover for propositional logic\n",
        "\n",
        "Yoonsuck Choe  \n",
        "20 October 2021\n",
        "\n",
        "clause representation:  \n",
        "```\n",
        "[<positive-proposition-list>, <negative-proposition-list>]\n",
        "```\n",
        "\n",
        "proposition-list representation:  \n",
        "```\n",
        "[ 'p', 'q', 'r' ]\n",
        "```\n",
        "\n",
        "Note: `p`, `q`, `r`, `s` are propositions : CASE SENSITIVE!\n",
        "\n",
        "Example clause:  \n",
        "`[['p', 'q'] ['r']]` : This is clause P &#x2228; Q &#x2228; &#x00ac;R"
      ],
      "metadata": {
        "id": "7jd9TnKo9jc4"
      }
    },
    {
      "cell_type": "code",
      "source": [
        "DEBUG = True"
      ],
      "metadata": {
        "id": "qUujp_DN9nhw"
      },
      "execution_count": null,
      "outputs": []
    },
    {
      "cell_type": "code",
      "source": [
        "def rm_item(lst, item):\n",
        "    '''\n",
        "    function: rm_pred()\n",
        "\n",
        "    remove item from list\n",
        "    - return [] if empty, not None\n",
        "    '''\n",
        "    lst.remove(item)\n",
        "\n",
        "    if lst == None:\n",
        "        return []\n",
        "    else:\n",
        "        return lst"
      ],
      "metadata": {
        "id": "6vuT_U6y9pC2"
      },
      "execution_count": null,
      "outputs": []
    },
    {
      "cell_type": "code",
      "source": [
        "def mk_unique(clause):\n",
        "    '''\n",
        "    remove redundant propositions in the clause\n",
        "    '''\n",
        "    pos = clause[0]\n",
        "    neg = clause[1]\n",
        "\n",
        "    pos = list(set(pos))\n",
        "    neg = list(set(neg))\n",
        "\n",
        "    return [pos, neg]"
      ],
      "metadata": {
        "id": "ajqIpdx29sIy"
      },
      "execution_count": null,
      "outputs": []
    },
    {
      "cell_type": "code",
      "source": [
        "def resolve(clause1, clause2):\n",
        "    '''\n",
        "    function: resolve()\n",
        "\n",
        "    [['p', 'q'] ['r']] : clause P \\/ Q \\/ ~R\n",
        "\n",
        "    resolve clauses c1 and c2\n",
        "    - if resolvable returns resolvent\n",
        "    - if not resolvable returns False\n",
        "    - returns empty clause [[], []] when Falsified\n",
        "\n",
        "    '''\n",
        "\n",
        "    # remove any redundant propositions in the clauses\n",
        "    c1 = mk_unique(clause1)\n",
        "    c2 = mk_unique(clause2)\n",
        "\n",
        "    count = 0\n",
        "\n",
        "    # print clauses\n",
        "    if DEBUG:\n",
        "        print(\"resolving: \"+str(c1)+\" and \"+str(c2))\n",
        "\n",
        "    # c1 pos vs. c2 neg\n",
        "    for p1 in c1[0]:\n",
        "        for p2 in c2[1]:\n",
        "            if p1 == p2:\n",
        "                c1 = [rm_item(c1[0], p1), c1[1]]\n",
        "                c2 = [c2[0], rm_item(c2[1], p2)]\n",
        "                count = count+1\n",
        "\n",
        "    # c2 pos vs. c1 neg\n",
        "    for p1 in c1[1]:\n",
        "        for p2 in c2[0]:\n",
        "            if p1 == p2:\n",
        "                c1 = [c1[0], rm_item(c1[1], p1)]\n",
        "                c2 = [rm_item(c2[0], p2), c2[1]]\n",
        "                count = count+1\n",
        "\n",
        "    # check for multiple matches or no match and abort if so.\n",
        "    if count > 1 or count == 0:\n",
        "        return False\n",
        "\n",
        "    # compute resolvent\n",
        "    c1[0].extend(c2[0])\n",
        "    c1[1].extend(c2[1])\n",
        "\n",
        "    # make unique and return\n",
        "\n",
        "    return mk_unique(c1)"
      ],
      "metadata": {
        "id": "HBXQPpov9vj6"
      },
      "execution_count": null,
      "outputs": []
    },
    {
      "cell_type": "code",
      "source": [
        "def null_p(clause):\n",
        "    '''\n",
        "    function null_p()\n",
        "\n",
        "    check if \"False\" is derived\n",
        "    - returns True if empty clause\n",
        "    - returns False if non-empty clause\n",
        "    '''\n",
        "\n",
        "    if (type(clause) is list) and len(clause[0]) + len(clause[1]) == 0:\n",
        "        return True\n",
        "    else:\n",
        "        return False"
      ],
      "metadata": {
        "id": "c9OI-UJY9zqh"
      },
      "execution_count": null,
      "outputs": []
    },
    {
      "cell_type": "code",
      "source": [
        "def print_clause(clause):\n",
        "    '''\n",
        "    function print_clause\n",
        "\n",
        "    See function resolve() for clause representation.\n",
        "\n",
        "    '''\n",
        "\n",
        "    s = \"\"\n",
        "    for pos in clause[0]:\n",
        "        s = s + f\"{pos} \\u2228 \"\n",
        "\n",
        "    for neg in clause[1]:\n",
        "        s = s + f\"\\u00AC{neg} \\u2228 \"\n",
        "\n",
        "    if len(s) == 0:\n",
        "        print(\"NULL\")\n",
        "    else:\n",
        "        n = len(s)\n",
        "        print(s[0:(n-2)])"
      ],
      "metadata": {
        "id": "lcwAj97p91ok"
      },
      "execution_count": null,
      "outputs": []
    },
    {
      "cell_type": "markdown",
      "source": [
        "Using the `resolve()` function and the null_p function, implement the two-pointer method for propositional logic theorem proving\n",
        "- use set of support\n",
        "\n",
        "Theorem representation:  \n",
        "`[ [<index> <clause1>], [<index> <clause2>], ... ]`\n",
        "\n",
        "index: integer\n",
        "\n",
        "clause representation:  \n",
        "`[<positive-proposition-list>, <negative-proposition-list>]`\n",
        "\n",
        "proposition-list representation:  \n",
        "`[ 'p', 'q', 'r' ]`"
      ],
      "metadata": {
        "id": "y02Ymtv79_ih"
      }
    },
    {
      "cell_type": "code",
      "source": [
        "# define your theorem, as a set of indexed clauses\n",
        "theorem = [    # pos-list      # neg-list\n",
        "           [0, [['p','q'],    ['r']]],       # clause 0     P \\/ Q \\/ ~R\n",
        "           [1, [['s'],        ['q']]],       # clause 1     S \\/ ~Q\n",
        "           [2, [['t'],        ['s']]],       # clause 2     T \\/ ~S\n",
        "           [3, [[],           ['p']]],       # clause 3     ~P   - negated conclusion starts here (goal clause index = 3)\n",
        "           [4, [['r'],        []]],          # clause 4     R\n",
        "           [5, [[],           ['t']]]        # clause 5     ~T\n",
        "          ]\n",
        "\n",
        "# Homework Theorem\n",
        "theorem2 = [\n",
        "            [0, [['l'], ['k']]],        # L(Garfield, x) ∨ ¬K(x)\n",
        "            [1, [['l'], ['L', 'b']]],   # L(x, y) ∨ ¬L(x, Snoopy) ∨ ¬B(y)\n",
        "            [2, [['B'], []]],           # B(Underdog)\n",
        "            [3, [[],    ['l']]],        # ¬L(Garfield, α)\n",
        "            [4, ['k']]                  # ¬K(Garfield)  - negated conclusion starts here (goal index = 4)\n",
        "           ]\n",
        "\n",
        "# Theorem from the Exam\n",
        "theorem3 = [\n",
        "            [0, [['s', 'q', 'w'],   []]],           # S ∨ Q ∨ W\n",
        "            [1, [['w'],             ['r']]],        # W ∨ ¬R\n",
        "            [2, [[],                ['p', 's']]],   # ¬P ∨ ¬S\n",
        "            [3, [['r'],             ['q']]],        # R ∨ ¬Q\n",
        "            [4, [['p'],             []]],           # P         - negated conclusion starts here (goal clause index = 4)\n",
        "            [5, [[],                ['w']]],        # ¬W\n",
        "           ]"
      ],
      "metadata": {
        "id": "BNNH32an-D9n"
      },
      "execution_count": null,
      "outputs": []
    },
    {
      "cell_type": "code",
      "source": [
        "def prover(thm, goal):\n",
        "    '''\n",
        "    function prover: implement this\n",
        "\n",
        "    two-pointer method, with set of support\n",
        "    - arguments:\n",
        "        thm : theorem\n",
        "        goal : integer index (clause number where the negated conclusion starts)\n",
        "    - show resolution steps\n",
        "    - if null_p checks, return True (theorem proven)\n",
        "    - otherwise return False\n",
        "    '''\n",
        "\n",
        "    print('\\nprover():\\n\\nTheorem:')\n",
        "\n",
        "    for clause in thm:\n",
        "            print(\"clause \"+str(clause[0])+\": \", end=\"\")\n",
        "            print_clause(clause[1])\n",
        "\n",
        "    print('Goal clause index=', goal)\n",
        "\n",
        "    resolved_clauses = thm.copy()  # Copy of the theorem clauses\n",
        "\n",
        "    # Continue resolving clauses until no further resolutions are possible\n",
        "    while True:\n",
        "        new_resolved_clauses = []  # To store newly resolved clauses in this iteration\n",
        "\n",
        "        for i, clause_i in enumerate(resolved_clauses):\n",
        "            for j, clause_j in enumerate(resolved_clauses[i + 1:], start=i + 1):\n",
        "                resolvent = resolve(clause_i[1], clause_j[1])\n",
        "\n",
        "                if resolvent:  # If resolution is possible\n",
        "                    print(f'Resolving clause {clause_i[0]} and clause {clause_j[0]}')\n",
        "                    print_clause(resolvent)\n",
        "\n",
        "                    # Check if the resolvent is a null clause\n",
        "                    if null_p(resolvent):\n",
        "                        print(\"Null clause found. The theorem is proven.\")\n",
        "                        return True\n",
        "\n",
        "                    # Add the resolvent to the list of newly resolved clauses\n",
        "                    new_resolved_clauses.append([len(resolved_clauses) + len(new_resolved_clauses), resolvent])\n",
        "\n",
        "\n",
        "        # Check if no further resolutions are possible\n",
        "        if not new_resolved_clauses:\n",
        "            print(\"No further resolutions possible. The theorem cannot be proven.\")\n",
        "            return False\n",
        "\n",
        "        resolved_clauses.extend(new_resolved_clauses)\n",
        "\n",
        "    return True\n"
      ],
      "metadata": {
        "id": "Zd-Flud--Fh8"
      },
      "execution_count": null,
      "outputs": []
    },
    {
      "cell_type": "code",
      "source": [
        "prover(theorem, 3)"
      ],
      "metadata": {
        "id": "9vYrPf8S-Hdb"
      },
      "execution_count": null,
      "outputs": []
    },
    {
      "cell_type": "code",
      "source": [
        "prover(theorem3, 4)"
      ],
      "metadata": {
        "id": "dsPwmXYJoqqW"
      },
      "execution_count": null,
      "outputs": []
    }
  ]
}