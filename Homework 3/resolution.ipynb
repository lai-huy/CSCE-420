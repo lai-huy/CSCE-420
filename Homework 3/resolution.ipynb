{
  "cells": [
    {
      "cell_type": "markdown",
      "metadata": {},
      "source": [
        "Skeleton code for resolution theorem prover for propositional logic\n",
        "\n",
        "Yoonsuck Choe  \n",
        "20 October 2021\n",
        "\n",
        "clause representation:  \n",
        "```\n",
        "[<positive-proposition-list>, <negative-proposition-list>]\n",
        "```\n",
        "\n",
        "proposition-list representation:  \n",
        "```\n",
        "[ 'p', 'q', 'r' ]\n",
        "```\n",
        "\n",
        "Note: `p`, `q`, `r`, `s` are propositions : CASE SENSITIVE!\n",
        "\n",
        "Example clause:  \n",
        "`[['p', 'q'] ['r']]` : This is clause P &#x2228; Q &#x2228; &#x00ac;R "
      ]
    },
    {
      "cell_type": "code",
      "execution_count": null,
      "metadata": {},
      "outputs": [],
      "source": [
        "DEBUG = True"
      ]
    },
    {
      "cell_type": "code",
      "execution_count": null,
      "metadata": {},
      "outputs": [],
      "source": [
        "def rm_item(lst, item):\n",
        "    '''\n",
        "    function: rm_pred()\n",
        "\n",
        "    remove item from list\n",
        "    - return [] if empty, not None\n",
        "    '''\n",
        "    lst.remove(item)\n",
        "\n",
        "    if lst == None:\n",
        "        return []\n",
        "    else:\n",
        "        return lst"
      ]
    },
    {
      "cell_type": "code",
      "execution_count": null,
      "metadata": {},
      "outputs": [],
      "source": [
        "def mk_unique(clause):\n",
        "    '''\n",
        "    remove redundant propositions in the clause\n",
        "    '''\n",
        "    pos = clause[0]\n",
        "    neg = clause[1]\n",
        "\n",
        "    pos = list(set(pos))\n",
        "    neg = list(set(neg))\n",
        "\n",
        "    return [pos, neg]"
      ]
    },
    {
      "cell_type": "code",
      "execution_count": null,
      "metadata": {},
      "outputs": [],
      "source": [
        "def resolve(clause1, clause2):\n",
        "    ''' \n",
        "    function: resolve() \n",
        "\n",
        "    [['p', 'q'] ['r']] : clause P \\/ Q \\/ ~R \n",
        "\n",
        "    resolve clauses c1 and c2 \n",
        "    - if resolvable returns resolvent\n",
        "    - if not resolvable returns False\n",
        "    - returns empty clause [[], []] when Falsified\n",
        "\n",
        "    '''\n",
        "\n",
        "    # remove any redundant propositions in the clauses\n",
        "    c1 = mk_unique(clause1)\n",
        "    c2 = mk_unique(clause2)\n",
        "\n",
        "    count = 0\n",
        "\n",
        "    # print clauses\n",
        "    if DEBUG:\n",
        "        print(\"resolving: \"+str(c1)+\" and \"+str(c2))\n",
        "\n",
        "    # c1 pos vs. c2 neg\n",
        "    for p1 in c1[0]:\n",
        "        for p2 in c2[1]:\n",
        "            if p1 == p2:\n",
        "                c1 = [rm_item(c1[0], p1), c1[1]]\n",
        "                c2 = [c2[0], rm_item(c2[1], p2)]\n",
        "                count = count+1\n",
        "\n",
        "    # c2 pos vs. c1 neg\n",
        "    for p1 in c1[1]:\n",
        "        for p2 in c2[0]:\n",
        "            if p1 == p2:\n",
        "                c1 = [c1[0], rm_item(c1[1], p1)]\n",
        "                c2 = [rm_item(c2[0], p2), c2[1]]\n",
        "                count = count+1\n",
        "\n",
        "    # check for multiple matches or no match and abort if so.\n",
        "    if count > 1 or count == 0:\n",
        "        return False\n",
        "\n",
        "    # compute resolvent\n",
        "    c1[0].extend(c2[0])\n",
        "    c1[1].extend(c2[1])\n",
        "\n",
        "    # make unique and return\n",
        "\n",
        "    return mk_unique(c1)"
      ]
    },
    {
      "cell_type": "code",
      "execution_count": null,
      "metadata": {
        "colab": {
          "base_uri": "https://localhost:8080/"
        },
        "id": "uEbuLiN2uOWh",
        "outputId": "41fd7190-24e7-4583-bc52-43bd7f85b8f5"
      },
      "outputs": [],
      "source": [
        "def null_p(clause):\n",
        "    '''\n",
        "    function null_p()\n",
        "\n",
        "    check if \"False\" is derived \n",
        "    - returns True if empty clause\n",
        "    - returns False if non-empty clause\n",
        "    '''\n",
        "\n",
        "    if (type(clause) is list) and len(clause[0]) + len(clause[1]) == 0:\n",
        "        return True\n",
        "    else:\n",
        "        return False"
      ]
    },
    {
      "cell_type": "code",
      "execution_count": null,
      "metadata": {},
      "outputs": [],
      "source": [
        "def print_clause(clause):\n",
        "    '''\n",
        "    function print_clause\n",
        "\n",
        "    See function resolve() for clause representation.\n",
        "\n",
        "    '''\n",
        "\n",
        "    s = \"\"\n",
        "    for pos in clause[0]:\n",
        "        s += f\"{pos} \\u2228\"\n",
        "\n",
        "    for neg in clause[1]:\n",
        "        s += f\"\\u00AC{neg}\\u2228\"\n",
        "\n",
        "    if len(s) == 0:\n",
        "        print(\"NULL\")\n",
        "    else:\n",
        "        n = len(s)\n",
        "        print(s[0:(n-2)])"
      ]
    },
    {
      "cell_type": "markdown",
      "metadata": {},
      "source": [
        "Test `resolve()` function"
      ]
    },
    {
      "cell_type": "code",
      "execution_count": null,
      "metadata": {},
      "outputs": [],
      "source": [
        "print(\"\\ntest1\")\n",
        "test1 = resolve([['p', 'q'], ['r']], [[], ['p']])\n",
        "print(\"resolvent = \"+str(test1))\n",
        "print(\"null? \"+str(null_p(test1)))\n",
        "\n",
        "print(\"\\ntest2\")\n",
        "test2 = resolve([['p'], []], [[], ['p']])\n",
        "print(\"resolvent = \"+str(test2))\n",
        "print(\"null? \"+str(null_p(test2)))\n",
        "\n",
        "print(\"\\ntest3\")\n",
        "test3 = resolve([['p', 'q'], ['r']], [['r'], ['p']])\n",
        "print(\"resolvent = \"+str(test3))\n",
        "print(\"null? \"+str(null_p(test3)))\n",
        "\n",
        "print(\"\\ntest4\")\n",
        "test4 = resolve([['p', 'q'], ['r']], [['r'], []])\n",
        "print(\"resolvent = \"+str(test4))\n",
        "print(\"null? \"+str(null_p(test4)))\n",
        "\n",
        "\n",
        "print(\"\\ntest5\")\n",
        "test5 = resolve([['p', 'q'], ['r']], [['p', 'r'], []])\n",
        "print(\"resolvent = \"+str(test5))\n",
        "print(\"null? \"+str(null_p(test5)))\n",
        "\n",
        "\n",
        "# edge case not being handled correctly: p \\/ q \\/ ~r \\/ ~r  vs. p \\/ r should give p \\/ q, not p \\/ q \\/ ~r \n",
        "# - now this is fixed, with the use of mk_unique()\n",
        "print(\"\\ntest6\")\n",
        "test6 = resolve([['p', 'q'], ['r', 'r']], [['p', 'r'], []])\n",
        "print(\"resolvent = \"+str(test6))\n",
        "print(\"null? \"+str(null_p(test6)))"
      ]
    },
    {
      "cell_type": "markdown",
      "metadata": {},
      "source": [
        "Using the `resolve()` function and the null_p function, implement the two-pointer method for propositional logic theorem proving\n",
        "- use set of support\n",
        "\n",
        "Theorem representation:\n",
        "`[ [<index> <clause1>], [<index> <clause2>], ... ]`\n",
        "\n",
        "index: integer\n",
        "\n",
        "clause representation:\n",
        "`[<positive-proposition-list>, <negative-proposition-list>]`\n",
        "\n",
        "proposition-list representation:\n",
        "`[ 'p', 'q', 'r' ]`"
      ]
    },
    {
      "cell_type": "code",
      "execution_count": null,
      "metadata": {},
      "outputs": [],
      "source": [
        "# define your theorem, as a set of indexed clauses\n",
        "theorem = [    # pos-list      # neg-list \n",
        "           [0, [['p','q'],    ['r']]],       # clause 0     P \\/ Q \\/ ~R\n",
        "           [1, [['s'],        ['q']]],       # clause 1     S \\/ ~Q \n",
        "           [2, [['t'],        ['s']]],       # clause 2     T \\/ ~S \n",
        "           [3, [[],           ['p']]],       # clause 3     ~P   - negated conclusion starts here (goal clause index = 3)\n",
        "           [4, [['r'],        []]],          # clause 4     R   \n",
        "           [5, [[],           ['t']]]        # clause 5     ~T  \n",
        "          ]\n",
        "\n",
        "theorem2 = [ ]  # enter the example theorm in the homework \n",
        "\n",
        "theorem3 = [ ]  # enter your own example for testing "
      ]
    },
    {
      "cell_type": "code",
      "execution_count": null,
      "metadata": {
        "colab": {
          "base_uri": "https://localhost:8080/"
        },
        "id": "a2QfW1ly74Qy",
        "outputId": "0a651ddf-b416-4f86-dce5-bacd6afff422"
      },
      "outputs": [],
      "source": [
        "def prover(thm, goal):\n",
        "    '''\n",
        "    function prover: implement this\n",
        "\n",
        "    two-pointer method, with set of support\n",
        "    - arguments: \n",
        "        thm : theorem\n",
        "        goal : integer index (clause number where the negated conclusion starts)\n",
        "    - show resolution steps\n",
        "    - if null_p checks, return True (theorem proven)\n",
        "    - otherwise return False\n",
        "    '''\n",
        "\n",
        "    print('\\nprover():\\n\\nTheorem:')\n",
        "\n",
        "    for clause in theorem:\n",
        "            print(\"clause \"+str(clause[0])+\": \", end=\"\")\n",
        "            print_clause(clause[1])\n",
        "\n",
        "    print('Goal clause index=', goal)\n",
        "\n",
        "    print('Test resolve: clause 0 and clause 1')\n",
        "    print_clause(resolve(theorem[0][1], theorem[1][1]))\n",
        "\n",
        "    print('\\n\\n--- must print the resolution steps\\n\\n\\n')\n",
        "\n",
        "    return True\n"
      ]
    },
    {
      "cell_type": "code",
      "execution_count": null,
      "metadata": {},
      "outputs": [],
      "source": [
        "prover(theorem, 3)\n",
        "\n",
        "# Test clause printer\n",
        "\n",
        "print(\"Testing print_clause()\")\n",
        "print_clause(theorem[0][1])\n",
        "print_clause([['p'], ['q']])\n",
        "print_clause([['p', 's'], ['q', 'r']])"
      ]
    }
  ],
  "metadata": {
    "colab": {
      "provenance": []
    },
    "kernelspec": {
      "display_name": "Python 3",
      "name": "python3"
    },
    "language_info": {
      "codemirror_mode": {
        "name": "ipython",
        "version": 3
      },
      "file_extension": ".py",
      "mimetype": "text/x-python",
      "name": "python",
      "nbconvert_exporter": "python",
      "pygments_lexer": "ipython3",
      "version": "3.10.12"
    }
  },
  "nbformat": 4,
  "nbformat_minor": 0
}
