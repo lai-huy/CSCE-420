{
  "cells": [
    {
      "cell_type": "markdown",
      "metadata": {
        "id": "7jd9TnKo9jc4"
      },
      "source": [
        "Skeleton code for resolution theorem prover for propositional logic\n",
        "\n",
        "Yoonsuck Choe  \n",
        "20 October 2021\n",
        "\n",
        "clause representation:  \n",
        "```\n",
        "[<positive-proposition-list>, <negative-proposition-list>]\n",
        "```\n",
        "\n",
        "proposition-list representation:  \n",
        "```\n",
        "[ 'p', 'q', 'r' ]\n",
        "```\n",
        "\n",
        "Note: `p`, `q`, `r`, `s` are propositions : CASE SENSITIVE!\n",
        "\n",
        "Example clause:  \n",
        "`[['p', 'q'] ['r']]` : This is clause P &#x2228; Q &#x2228; &#x00ac;R"
      ]
    },
    {
      "cell_type": "code",
      "execution_count": null,
      "metadata": {
        "id": "qUujp_DN9nhw"
      },
      "outputs": [],
      "source": [
        "DEBUG = True"
      ]
    },
    {
      "cell_type": "code",
      "execution_count": null,
      "metadata": {
        "id": "6vuT_U6y9pC2"
      },
      "outputs": [],
      "source": [
        "def rm_item(lst, item):\n",
        "    '''\n",
        "    function: rm_pred()\n",
        "\n",
        "    remove item from list\n",
        "    - return [] if empty, not None\n",
        "    '''\n",
        "    lst.remove(item)\n",
        "\n",
        "    if lst == None:\n",
        "        return []\n",
        "    else:\n",
        "        return lst"
      ]
    },
    {
      "cell_type": "code",
      "execution_count": null,
      "metadata": {
        "id": "ajqIpdx29sIy"
      },
      "outputs": [],
      "source": [
        "def mk_unique(clause):\n",
        "    '''\n",
        "    remove redundant propositions in the clause\n",
        "    '''\n",
        "    pos = clause[0]\n",
        "    neg = clause[1]\n",
        "\n",
        "    pos = list(set(pos))\n",
        "    neg = list(set(neg))\n",
        "\n",
        "    return [pos, neg]"
      ]
    },
    {
      "cell_type": "code",
      "execution_count": null,
      "metadata": {
        "id": "HBXQPpov9vj6"
      },
      "outputs": [],
      "source": [
        "def resolve(clause1: list[list[str]], clause2: list[list[str]]) -> list[list[str]]:\n",
        "    '''\n",
        "    function: resolve()\n",
        "\n",
        "    [['p', 'q'] ['r']] : clause P ∨ Q ∨ ¬R\n",
        "\n",
        "    resolve clauses c1 and c2\n",
        "    - if resolvable returns resolvent\n",
        "    - if not resolvable returns False\n",
        "    - returns empty clause [[], []] when Falsified\n",
        "\n",
        "    '''\n",
        "\n",
        "    # remove any redundant propositions in the clauses\n",
        "    c1 = mk_unique(clause1)\n",
        "    c2 = mk_unique(clause2)\n",
        "\n",
        "    count = 0\n",
        "\n",
        "    # print clauses\n",
        "    if DEBUG:\n",
        "        print(f\"resolving: {to_string(c1)} and {to_string(c2)}\")\n",
        "\n",
        "    # c1 pos vs. c2 neg\n",
        "    for p1 in c1[0]:\n",
        "        for p2 in c2[1]:\n",
        "            if p1 == p2:\n",
        "                c1 = [rm_item(c1[0], p1), c1[1]]\n",
        "                c2 = [c2[0], rm_item(c2[1], p2)]\n",
        "                count = count+1\n",
        "\n",
        "    # c2 pos vs. c1 neg\n",
        "    for p1 in c1[1]:\n",
        "        for p2 in c2[0]:\n",
        "            if p1 == p2:\n",
        "                c1 = [c1[0], rm_item(c1[1], p1)]\n",
        "                c2 = [rm_item(c2[0], p2), c2[1]]\n",
        "                count = count+1\n",
        "\n",
        "    # check for multiple matches or no match and abort if so.\n",
        "    if count > 1 or count == 0:\n",
        "        return False\n",
        "\n",
        "    # compute resolvent\n",
        "    c1[0].extend(c2[0])\n",
        "    c1[1].extend(c2[1])\n",
        "\n",
        "    # make unique and return\n",
        "\n",
        "    return mk_unique(c1)"
      ]
    },
    {
      "cell_type": "code",
      "execution_count": null,
      "metadata": {
        "id": "c9OI-UJY9zqh"
      },
      "outputs": [],
      "source": [
        "def null_p(clause):\n",
        "    '''\n",
        "    function null_p()\n",
        "\n",
        "    check if \"False\" is derived\n",
        "    - returns True if empty clause\n",
        "    - returns False if non-empty clause\n",
        "    '''\n",
        "\n",
        "    if (type(clause) is list) and len(clause[0]) + len(clause[1]) == 0:\n",
        "        return True\n",
        "    else:\n",
        "        return False"
      ]
    },
    {
      "cell_type": "code",
      "execution_count": null,
      "metadata": {
        "id": "y9E15NkttyWh"
      },
      "outputs": [],
      "source": [
        "def to_string(clause):\n",
        "    '''\n",
        "    function print_clause\n",
        "\n",
        "    See function resolve() for clause representation.\n",
        "    '''\n",
        "\n",
        "    s = \"\"\n",
        "    for pos in clause[0]:\n",
        "        s += f\"{pos} \\u2228 \"\n",
        "\n",
        "    for neg in clause[1]:\n",
        "        s += f\"\\u00AC{neg} \\u2228 \"\n",
        "\n",
        "    if not len(s):\n",
        "        return \"NULL\"\n",
        "    n = len(s)\n",
        "    return s[0:(n-2)]"
      ]
    },
    {
      "cell_type": "code",
      "execution_count": null,
      "metadata": {
        "id": "lcwAj97p91ok"
      },
      "outputs": [],
      "source": [
        "def print_clause(clause):\n",
        "    '''\n",
        "    function print_clause\n",
        "\n",
        "    See function resolve() for clause representation.\n",
        "\n",
        "    '''\n",
        "    print(to_string(clause))"
      ]
    },
    {
      "cell_type": "markdown",
      "metadata": {
        "id": "y02Ymtv79_ih"
      },
      "source": [
        "Using the `resolve()` function and the null_p function, implement the two-pointer method for propositional logic theorem proving\n",
        "- use set of support\n",
        "\n",
        "Theorem representation:  \n",
        "`[ [<index> <clause1>], [<index> <clause2>], ... ]`\n",
        "\n",
        "index: integer\n",
        "\n",
        "clause representation:  \n",
        "`[<positive-proposition-list>, <negative-proposition-list>]`\n",
        "\n",
        "proposition-list representation:  \n",
        "`[ 'p', 'q', 'r' ]`"
      ]
    },
    {
      "cell_type": "code",
      "execution_count": null,
      "metadata": {
        "id": "BNNH32an-D9n"
      },
      "outputs": [],
      "source": [
        "# define your theorem, as a set of indexed clauses\n",
        "theorem = [    # pos-list      # neg-list\n",
        "           [0, [['p','q'],    ['r']]],       # clause 0     P \\/ Q \\/ ~R\n",
        "           [1, [['s'],        ['q']]],       # clause 1     S \\/ ~Q\n",
        "           [2, [['t'],        ['s']]],       # clause 2     T \\/ ~S\n",
        "           [3, [[],           ['p']]],       # clause 3     ~P   - negated conclusion starts here (goal clause index = 3)\n",
        "           [4, [['r'],        []]],          # clause 4     R\n",
        "           [5, [[],           ['t']]]        # clause 5     ~T\n",
        "          ]\n",
        "\n",
        "# Homework Theorem\n",
        "theorem2 = [\n",
        "            [0, [['I'],         ['M']]],    # I ∨ ¬M\n",
        "            [1, [['M'],         ['I']]],    # M ∨ ¬I\n",
        "            [2, [['M', 'L'],    []]],       # M ∨ L\n",
        "            [3, [['H'],         ['I']]],    # H ∨ ¬I\n",
        "            [4, [['H'],         ['L']]],    # H ∨ ¬L\n",
        "            [5, [['G'],         ['H']]],    # H ∨ ¬G\n",
        "            [6, [[],            ['M']]]     # ¬M    - negated conclusion starts here (goal clause index = 6)\n",
        "           ]\n",
        "\n",
        "# Theorem from the Exam\n",
        "theorem3 = [\n",
        "            [0, [['s', 'q', 'w'],   []]],           # S ∨ Q ∨ W\n",
        "            [1, [['w'],             ['r']]],        # W ∨ ¬R\n",
        "            [2, [[],                ['p', 's']]],   # ¬P ∨ ¬S\n",
        "            [3, [['r'],             ['q']]],        # R ∨ ¬Q\n",
        "            [4, [['p'],             []]],           # P         - negated conclusion starts here (goal clause index = 4)\n",
        "            [5, [[],                ['w']]],        # ¬W\n",
        "           ]"
      ]
    },
    {
      "cell_type": "code",
      "execution_count": null,
      "metadata": {
        "id": "Zd-Flud--Fh8"
      },
      "outputs": [],
      "source": [
        "def prover(thm, goal):\n",
        "    '''\n",
        "    function prover: implement this\n",
        "\n",
        "    two-pointer method, with set of support\n",
        "    - arguments:\n",
        "        thm : theorem\n",
        "        goal : integer index (clause number where the negated conclusion starts)\n",
        "    - show resolution steps\n",
        "    - if null_p checks, return True (theorem proven)\n",
        "    - otherwise return False\n",
        "    '''\n",
        "\n",
        "    print('\\nprover():\\n\\nTheorem:')\n",
        "\n",
        "    for num, clause in thm:\n",
        "        print(f\"clause {num}: {to_string(clause)}\")\n",
        "\n",
        "    print(f\"Goal clause index = {goal}\\n\")\n",
        "\n",
        "    resolved_clauses = [clause for _, clause in thm]\n",
        "\n",
        "    # Continue resolving clauses until no further resolutions are possible\n",
        "    while True:\n",
        "        new_resolved_clauses = []  # To store newly resolved clauses in this iteration\n",
        "\n",
        "        for i, clause_i in enumerate(resolved_clauses):\n",
        "            for clause_j in resolved_clauses[i + 1:]:\n",
        "                resolvent = resolve(clause_i, clause_j)\n",
        "\n",
        "                # Check if the resolvent is a null clause\n",
        "                if null_p(resolvent):\n",
        "                    print(\"Null clause found. The theorem is proven.\")\n",
        "                    return True\n",
        "                # Check if resolving failed\n",
        "                if not resolvent:\n",
        "                    print(\"Cannot resolve\")\n",
        "                    continue\n",
        "                # Check if resolvent is already in resolved_clauses\n",
        "                if resolvent in resolved_clauses:\n",
        "                    print(\"Redundent resolve\")\n",
        "                    continue\n",
        "                print(f\"Resolved: {to_string(resolvent)}\")\n",
        "                new_resolved_clauses.append(resolvent)\n",
        "            print(\"\")\n",
        "\n",
        "\n",
        "        # Check if no further resolutions are possible\n",
        "        if not new_resolved_clauses:\n",
        "            print(\"No further resolutions possible. The theorem cannot be proven.\")\n",
        "            return False\n",
        "\n",
        "        resolved_clauses.extend(new_resolved_clauses)\n",
        "\n",
        "    return True\n"
      ]
    },
    {
      "cell_type": "code",
      "execution_count": null,
      "metadata": {
        "colab": {
          "base_uri": "https://localhost:8080/"
        },
        "id": "9vYrPf8S-Hdb",
        "outputId": "dcaa5021-d627-474f-a9d2-525e83b9d617"
      },
      "outputs": [],
      "source": [
        "prover(theorem, 3)"
      ]
    },
    {
      "cell_type": "code",
      "execution_count": null,
      "metadata": {
        "colab": {
          "base_uri": "https://localhost:8080/"
        },
        "id": "_vBy-t5BfLVh",
        "outputId": "c8efdc58-6ac5-4491-8c24-f88c8393d993"
      },
      "outputs": [],
      "source": [
        "prover(theorem2, 6)"
      ]
    },
    {
      "cell_type": "code",
      "execution_count": null,
      "metadata": {
        "colab": {
          "base_uri": "https://localhost:8080/"
        },
        "id": "dsPwmXYJoqqW",
        "outputId": "c693afb0-6050-451d-8bca-885ea7bbcfb0"
      },
      "outputs": [],
      "source": [
        "prover(theorem3, 4)"
      ]
    }
  ],
  "metadata": {
    "colab": {
      "provenance": []
    },
    "kernelspec": {
      "display_name": "Python 3",
      "name": "python3"
    },
    "language_info": {
      "name": "python",
      "version": "3.10.12"
    }
  },
  "nbformat": 4,
  "nbformat_minor": 0
}
